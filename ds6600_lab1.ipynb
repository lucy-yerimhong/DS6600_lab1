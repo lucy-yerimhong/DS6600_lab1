{
 "cells": [
  {
   "cell_type": "markdown",
   "id": "21bd95e3",
   "metadata": {},
   "source": [
    "### Problem 2. Describe whether a virtual machine, a container, a virtual environment, or the global environment is best suited for each situation."
   ]
  },
  {
   "cell_type": "markdown",
   "id": "9506a2bf",
   "metadata": {},
   "source": [
    "##### Part a. Meals on Wheels\n",
    "- Execution environment: container\n",
    "- Reason: Given the objective, a container is the most proper option in this case in terms of isolation, effficiency, and scalability. They offer OS-level isolation, allowing each chapter to run the portal and app independently across different regions while connecting to its volunteer and client database over the internet. The key merit of containers is portability, meaning they can be consistently deplyed across different servers or cloud providers, making it easy for replication and maintenance across chapters. \n",
    "\n",
    "Using virtual machines would create overhead when scaling across many chapters because each vm would impose enormous costs to manage and operate a separate OS. Next, using global environments will create a variety of dependency conflicts and lack isolation because the existing codes in running the portal and app for Charlottesville may have been build on a virtual environment. Lastly, virtual environment isolate only packages rather than the operating system, which is insufficient for ensuring portability."
   ]
  },
  {
   "cell_type": "markdown",
   "id": "f8edf8ef",
   "metadata": {},
   "source": [
    "##### Part b. Legal Aid Justice Center\n",
    "- Execution environment: virtual environment\n",
    "- Reason: Given the objective, virtual environment seems proper here, as it keep project-specific dependencies organized and avoid conflicts with packeages installed globally on my computer. Since the task only requires reporting some descriptive facts about data rather than deploying code or sharing data, isolation beyond project-level(e.g., containers, virtual machines) would be unnecessary."
   ]
  },
  {
   "cell_type": "markdown",
   "id": "22457541",
   "metadata": {},
   "source": [
    "##### Part c. Save the Childeren\n",
    "- Execution environment: virtual machine (VM)\n",
    "- Reason: A virtual machine seems the most proper option because the predictive model requires several open-source image processing packages that only work on Ubuntu Linux. A VM offers a complete OS envrionment, making these depdencies to run regardless of the host machines' OS. In addition, since the model should be deplyed by numerous workers across different regions, distributing a VM image would provide consistency and avoid coflicts across divergent local setups. Unlike virtual environments or containers, which cannot fully address OS-level requirements, a VM offers the necessary isolation and portability for this case."
   ]
  },
  {
   "cell_type": "markdown",
   "id": "7ab26350",
   "metadata": {},
   "source": [
    "##### Part d. Python 4 in Swedish\n",
    "- Execution environment: container\n",
    "- Reason: A container seems best for this case becuase it can package Python 3 with its required OS environment, ensuring that the project continues to run even if the host system upgrades to Python 4 with reproducible environments and without overhead. In contrast, a global environment offers no isolation, a virtual environment mostly depends on the host interpreter and cannot preserve Python 3 after a version upgrade, and a virtual machine would be unnecessarily heavy for this purpose."
   ]
  },
  {
   "cell_type": "markdown",
   "id": "eb551116",
   "metadata": {},
   "source": [
    "### Problem 3. ydata-profiling"
   ]
  },
  {
   "cell_type": "markdown",
   "id": "61f142fd",
   "metadata": {},
   "source": [
    "##### Part A. Copy and Paste command-line code\n",
    "conda create -n ds6600_lab1 python=3.12 neo4j python-dotenv pandas numpy scipy scikit-learn requests prince ipykernel conda-forge::wquantiles\n",
    "\n",
    "conda activate ds6600_lab1\n",
    "\n",
    "python -m ipykernel install --user --name ds6600_lab1 --display-name \"Python (ds6600_lab1)\"\n",
    "\n",
    "pip install ydata_profiling "
   ]
  },
  {
   "cell_type": "markdown",
   "id": "33c5ef61",
   "metadata": {},
   "source": [
    "##### Part b. Run the following code "
   ]
  },
  {
   "cell_type": "code",
   "execution_count": 1,
   "id": "0fd87329",
   "metadata": {},
   "outputs": [
    {
     "name": "stderr",
     "output_type": "stream",
     "text": [
      "/opt/miniconda3/envs/ds6600_lab1/lib/python3.12/site-packages/tqdm/auto.py:21: TqdmWarning: IProgress not found. Please update jupyter and ipywidgets. See https://ipywidgets.readthedocs.io/en/stable/user_install.html\n",
      "  from .autonotebook import tqdm as notebook_tqdm\n"
     ]
    },
    {
     "data": {
      "text/html": [
       "\n",
       "            <div>\n",
       "                <ins><a href=\"https://ydata.ai/register\">Upgrade to ydata-sdk</a></ins>\n",
       "                <p>\n",
       "                    Improve your data and profiling with ydata-sdk, featuring data quality scoring, redundancy detection, outlier identification, text validation, and synthetic data generation.\n",
       "                </p>\n",
       "            </div>\n",
       "            "
      ],
      "text/plain": [
       "<IPython.core.display.HTML object>"
      ]
     },
     "metadata": {},
     "output_type": "display_data"
    }
   ],
   "source": [
    "import numpy as np\n",
    "import pandas as pd\n",
    "import weighted #this is a module of wquantiles\n",
    "from scipy import stats\n",
    "import prince\n",
    "from ydata_profiling import ProfileReport"
   ]
  },
  {
   "cell_type": "code",
   "execution_count": null,
   "id": "232bad99",
   "metadata": {},
   "outputs": [],
   "source": []
  }
 ],
 "metadata": {
  "kernelspec": {
   "display_name": "Python (ds6600_lab1)",
   "language": "python",
   "name": "ds6600_lab1"
  },
  "language_info": {
   "codemirror_mode": {
    "name": "ipython",
    "version": 3
   },
   "file_extension": ".py",
   "mimetype": "text/x-python",
   "name": "python",
   "nbconvert_exporter": "python",
   "pygments_lexer": "ipython3",
   "version": "3.12.11"
  }
 },
 "nbformat": 4,
 "nbformat_minor": 5
}
