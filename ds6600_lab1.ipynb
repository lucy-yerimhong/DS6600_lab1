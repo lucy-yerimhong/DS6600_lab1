{
 "cells": [
  {
   "cell_type": "markdown",
   "id": "21bd95e3",
   "metadata": {},
   "source": [
    "##### Problem 2. Describe whether a virtual machine, a container, a virtual environment, or the global environment is best suited for each situation."
   ]
  },
  {
   "cell_type": "markdown",
   "id": "9506a2bf",
   "metadata": {},
   "source": [
    "##### Part a. Meals on Wheels\n",
    "- Execution environment: container\n",
    "- Reason: Given the objective, a container is the most proper option in this case in terms of isolation, effficiency, and scalability. They offer OS-level isolation, allowing each chapter to run the portal and app independently across different regions while connecting to its volunteer and client database over the internet. The key merit of containers is portability, meaning they can be consistently deplyed across different servers or cloud providers, making it easy for replication and maintenance across chapters. \n",
    "\n",
    "Using virtual machines would create overhead when scaling across many chapters because each vm would impose enormous costs to manage and operate a separate OS. Next, using global environments will create a variety of dependency conflicts and lack isolation because the existing codes in running the portal and app for Charlottesville may have been build on a virtual environment. Lastly, virtual environment isolate only packages rather than the operating system, which is insufficient for ensuring portability."
   ]
  },
  {
   "cell_type": "markdown",
   "id": "f8edf8ef",
   "metadata": {},
   "source": [
    "##### Part b. Legal Aid Justice Center\n",
    "- Execution environment: virtual environment\n",
    "- Reason: Given the objective, virtual environment seems proper here, as it keep project-specific dependencies organized and avoid conflicts with packeages installed globally on my computer. Since the task only requires reporting some descriptive facts about data rather than deploying code or sharing data, isolation beyond project-level(e.g., containers, virtual machines) would be unnecessary."
   ]
  },
  {
   "cell_type": "markdown",
   "id": "22457541",
   "metadata": {},
   "source": [
    "##### Part c. Save the Childeren\n",
    "- Execution environment: virtual machine (VM)\n",
    "- Reason: A virtual machine seems the most proper option because the predictive model requires several open-source image processing packages that only work on Ubuntu Linux. A VM offers a complete OS envrionment, making these depdencies to run regardless of the host machines' OS. In addition, since the model should be deplyed by numerous workers across different regions, distributing a VM image would provide consistency and avoid coflicts across divergent local setups. Unlike virtual environments or containers, which cannot fully address OS-level requirements, a VM offers the necessary isolation and portability for this case."
   ]
  },
  {
   "cell_type": "markdown",
   "id": "7ab26350",
   "metadata": {},
   "source": [
    "##### Part d. Python 4 in Swedish\n",
    "- Execution environment: container\n",
    "- Reason: A container seems best for this case becuase it can package Python 3 with its required OS environment, ensuring that the project continues to run even if the host system upgrades to Python 4 with reproducible environments and without overhead. In contrast, a global environment offers no isolation, a virtual environment mostly depends on the host interpreter and cannot preserve Python 3 after a version upgrade, and a virtual machine would be unnecessarily heavy for this purpose."
   ]
  }
 ],
 "metadata": {
  "language_info": {
   "name": "python"
  }
 },
 "nbformat": 4,
 "nbformat_minor": 5
}
