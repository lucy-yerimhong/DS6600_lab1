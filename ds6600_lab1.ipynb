{
 "cells": [
  {
   "cell_type": "markdown",
   "id": "21bd95e3",
   "metadata": {},
   "source": [
    "### Problem 2. Describe whether a virtual machine, a container, a virtual environment, or the global environment is best suited for each situation."
   ]
  },
  {
   "cell_type": "markdown",
   "id": "9506a2bf",
   "metadata": {},
   "source": [
    "##### Part a. Meals on Wheels\n",
    "- Execution environment: container\n",
    "- Reason: Given the objective, a container is the most proper option in this case in terms of isolation, effficiency, and scalability. They offer OS-level isolation, allowing each chapter to run the portal and app independently across different regions while connecting to its volunteer and client database over the internet. The key merit of containers is portability, meaning they can be consistently deplyed across different servers or cloud providers, making it easy for replication and maintenance across chapters. \n",
    "\n",
    "Using virtual machines would create overhead when scaling across many chapters because each vm would impose enormous costs to manage and operate a separate OS. Next, using global environments will create a variety of dependency conflicts and lack isolation because the existing codes in running the portal and app for Charlottesville may have been build on a virtual environment. Lastly, virtual environment isolate only packages rather than the operating system, which is insufficient for ensuring portability."
   ]
  },
  {
   "cell_type": "markdown",
   "id": "f8edf8ef",
   "metadata": {},
   "source": [
    "##### Part b. Legal Aid Justice Center\n",
    "- Execution environment: virtual environment\n",
    "- Reason: Given the objective, virtual environment seems proper here, as it keep project-specific dependencies organized and avoid conflicts with packeages installed globally on my computer. Since the task only requires reporting some descriptive facts about data rather than deploying code or sharing data, isolation beyond project-level(e.g., containers, virtual machines) would be unnecessary."
   ]
  },
  {
   "cell_type": "markdown",
   "id": "22457541",
   "metadata": {},
   "source": [
    "##### Part c. Save the Childeren\n",
    "- Execution environment: virtual machine (VM)\n",
    "- Reason: A virtual machine seems the most proper option because the predictive model requires several open-source image processing packages that only work on Ubuntu Linux. A VM offers a complete OS envrionment, making these depdencies to run regardless of the host machines' OS. In addition, since the model should be deplyed by numerous workers across different regions, distributing a VM image would provide consistency and avoid coflicts across divergent local setups. Unlike virtual environments or containers, which cannot fully address OS-level requirements, a VM offers the necessary isolation and portability for this case."
   ]
  },
  {
   "cell_type": "markdown",
   "id": "7ab26350",
   "metadata": {},
   "source": [
    "##### Part d. Python 4 in Swedish\n",
    "- Execution environment: container\n",
    "- Reason: A container seems best for this case becuase it can package Python 3 with its required OS environment, ensuring that the project continues to run even if the host system upgrades to Python 4 with reproducible environments and without overhead. In contrast, a global environment offers no isolation, a virtual environment mostly depends on the host interpreter and cannot preserve Python 3 after a version upgrade, and a virtual machine would be unnecessarily heavy for this purpose."
   ]
  },
  {
   "cell_type": "markdown",
   "id": "eb551116",
   "metadata": {},
   "source": [
    "### Problem 3. ydata-profiling"
   ]
  },
  {
   "cell_type": "markdown",
   "id": "61f142fd",
   "metadata": {},
   "source": [
    "##### Part A. Copy and Paste command-line code\n",
    "conda create -n ds6600_lab1 python=3.12 neo4j python-dotenv pandas numpy scipy scikit-learn requests prince ipykernel conda-forge::wquantiles\n",
    "\n",
    "conda activate ds6600_lab1\n",
    "\n",
    "python -m ipykernel install --user --name ds6600_lab1 --display-name \"Python (ds6600_lab1)\"\n",
    "\n",
    "pip install ydata_profiling "
   ]
  },
  {
   "cell_type": "markdown",
   "id": "33c5ef61",
   "metadata": {},
   "source": [
    "##### Part b. Run the following code "
   ]
  },
  {
   "cell_type": "code",
   "execution_count": 1,
   "id": "0fd87329",
   "metadata": {},
   "outputs": [
    {
     "name": "stderr",
     "output_type": "stream",
     "text": [
      "/opt/miniconda3/envs/ds6600_lab1/lib/python3.12/site-packages/tqdm/auto.py:21: TqdmWarning: IProgress not found. Please update jupyter and ipywidgets. See https://ipywidgets.readthedocs.io/en/stable/user_install.html\n",
      "  from .autonotebook import tqdm as notebook_tqdm\n"
     ]
    },
    {
     "data": {
      "text/html": [
       "\n",
       "            <div>\n",
       "                <ins><a href=\"https://ydata.ai/register\">Upgrade to ydata-sdk</a></ins>\n",
       "                <p>\n",
       "                    Improve your data and profiling with ydata-sdk, featuring data quality scoring, redundancy detection, outlier identification, text validation, and synthetic data generation.\n",
       "                </p>\n",
       "            </div>\n",
       "            "
      ],
      "text/plain": [
       "<IPython.core.display.HTML object>"
      ]
     },
     "metadata": {},
     "output_type": "display_data"
    }
   ],
   "source": [
    "import numpy as np\n",
    "import pandas as pd\n",
    "import weighted #this is a module of wquantiles\n",
    "from scipy import stats\n",
    "import prince\n",
    "from ydata_profiling import ProfileReport"
   ]
  },
  {
   "cell_type": "markdown",
   "id": "e0025b77",
   "metadata": {},
   "source": [
    "### Problem 6"
   ]
  },
  {
   "cell_type": "markdown",
   "id": "40cff25e",
   "metadata": {},
   "source": [
    "#### Part a"
   ]
  },
  {
   "cell_type": "code",
   "execution_count": 3,
   "id": "7fc0dd1c",
   "metadata": {},
   "outputs": [],
   "source": [
    "from neo4j import GraphDatabase\n",
    "import dotenv\n",
    "import os"
   ]
  },
  {
   "cell_type": "markdown",
   "id": "c8cda3db",
   "metadata": {},
   "source": [
    "#### Part b"
   ]
  },
  {
   "cell_type": "markdown",
   "id": "41294355",
   "metadata": {},
   "source": [
    "1. Two default ports for HTTP and Bolt access to the Neo4j API: Neo4j exposes `7474` and `7687`. This information could be found in Docker Hub page for the official Neo4j Docker image (under 'How to use this image' section).\n",
    "\n",
    "2. The folder inside the container that stores the data: To allow the database to be persisted outside the container, we can mount a volume to `/data` directory on the starting container. This information could also be found in Docker Hub page for the official Neo4j Docker image (under 'How to use this image' section).\n",
    "\n",
    "3. Environmental variables required by the Neo4j image: The answer is `NEO4J_AUTH`. The initial username is neo4j because there is currently no way to change this. This information could be found in the official documentation of Neo4j (under 'Using NEO4J_AUTH to set an initial password' section)."
   ]
  },
  {
   "cell_type": "markdown",
   "id": "5a3263c6",
   "metadata": {},
   "source": [
    "#### Part c"
   ]
  },
  {
   "cell_type": "markdown",
   "id": "1a6c5163",
   "metadata": {},
   "source": [
    "compose.yaml file\n",
    "\n",
    "services:\n",
    "\n",
    "  neo4j:\n",
    "    image: neo4j:latest\n",
    "    ports:\n",
    "      - \"7687:7687\"\n",
    "      - \"7474:7474\"\n",
    "    env_file:\n",
    "      - .env\n",
    "    volumes:\n",
    "      - neo4jdata:/data\n",
    "\n",
    "volumes:\n",
    "  neo4jdata: "
   ]
  },
  {
   "cell_type": "markdown",
   "id": "18f4c475",
   "metadata": {},
   "source": [
    "#### Part d."
   ]
  },
  {
   "cell_type": "code",
   "execution_count": 8,
   "id": "78518a7c",
   "metadata": {},
   "outputs": [
    {
     "name": "stdout",
     "output_type": "stream",
     "text": [
      "Connection to Neo4j established successfully.\n"
     ]
    }
   ],
   "source": [
    "dotenv.load_dotenv()\n",
    "NEO4J_AUTH = os.getenv('NEO4J_AUTH').split(\"/\")\n",
    "URI = \"bolt://localhost:7687\"\n",
    "USERNAME = NEO4J_AUTH[0]\n",
    "PASSWORD = NEO4J_AUTH[1]\n",
    "\n",
    "try:\n",
    "    # Create a Driver instance\n",
    "    # This only provides connection information, it does not establish a connection yet.\n",
    "    driver = GraphDatabase.driver(URI, auth=(USERNAME, PASSWORD))\n",
    "\n",
    "    # Verify connectivity immediately\n",
    "    # This forces the driver to create a connection and check credentials/compatibility.\n",
    "    driver.verify_connectivity()\n",
    "    print(\"Connection to Neo4j established successfully.\")\n",
    "\n",
    "except Exception as e:\n",
    "    print(f\"Failed to connect to Neo4j: {e}\")\n",
    "\n",
    "finally:\n",
    "    # Close the driver to release resources\n",
    "    if 'driver' in locals() and driver:\n",
    "        driver.close()"
   ]
  }
 ],
 "metadata": {
  "kernelspec": {
   "display_name": "Python (ds6600_lab1)",
   "language": "python",
   "name": "ds6600_lab1"
  },
  "language_info": {
   "codemirror_mode": {
    "name": "ipython",
    "version": 3
   },
   "file_extension": ".py",
   "mimetype": "text/x-python",
   "name": "python",
   "nbconvert_exporter": "python",
   "pygments_lexer": "ipython3",
   "version": "3.12.11"
  }
 },
 "nbformat": 4,
 "nbformat_minor": 5
}
